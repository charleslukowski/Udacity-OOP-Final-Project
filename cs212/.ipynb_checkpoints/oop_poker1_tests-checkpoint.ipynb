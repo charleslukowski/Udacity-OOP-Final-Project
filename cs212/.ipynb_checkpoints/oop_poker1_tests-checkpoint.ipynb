{
 "metadata": {
  "name": "",
  "signature": "sha256:fbaed462904d646740c94889ee46323faa5603b6a106dad205faae69ace19753"
 },
 "nbformat": 3,
 "nbformat_minor": 0,
 "worksheets": [
  {
   "cells": [
    {
     "cell_type": "code",
     "collapsed": false,
     "input": [
      "%run oop_poker1.py"
     ],
     "language": "python",
     "metadata": {},
     "outputs": [],
     "prompt_number": 529
    },
    {
     "cell_type": "code",
     "collapsed": false,
     "input": [
      "d = Deck()\n",
      "print d.card_list\n",
      "d.shuffle()\n",
      "print d.card_list\n",
      "t = Table(d.card_list, 1, 2)\n",
      "p1 = PC('Joe')\n",
      "p1.sit_in(t, 0)\n",
      "npc1 = NPC('NPC1')\n",
      "npc1.sit_in(t,1)"
     ],
     "language": "python",
     "metadata": {},
     "outputs": [
      {
       "output_type": "stream",
       "stream": "stdout",
       "text": [
        "[<__main__.Card object at 0x03B9DD30>, <__main__.Card object at 0x03B9D4B0>, <__main__.Card object at 0x03B9D2F0>, <__main__.Card object at 0x03B9D5B0>, <__main__.Card object at 0x03B9DC90>, <__main__.Card object at 0x03B9D0F0>, <__main__.Card object at 0x03B9D3D0>, <__main__.Card object at 0x03B9DB30>, <__main__.Card object at 0x03B9D6D0>, <__main__.Card object at 0x03B9D670>, <__main__.Card object at 0x03B9D910>, <__main__.Card object at 0x03B9D450>, <__main__.Card object at 0x03B9DDD0>, <__main__.Card object at 0x03B9D4D0>, <__main__.Card object at 0x03B9DC30>, <__main__.Card object at 0x03B9DD10>, <__main__.Card object at 0x03B9D810>, <__main__.Card object at 0x03B9DB90>, <__main__.Card object at 0x03B9DBF0>, <__main__.Card object at 0x03B9DCF0>, <__main__.Card object at 0x03B9D9D0>, <__main__.Card object at 0x03B9D6F0>, <__main__.Card object at 0x03B9DBB0>, <__main__.Card object at 0x03B9DC10>, <__main__.Card object at 0x03B9D290>, <__main__.Card object at 0x03B9D5D0>, <__main__.Card object at 0x03B9D070>, <__main__.Card object at 0x03B9DC50>, <__main__.Card object at 0x03B9DEF0>, <__main__.Card object at 0x03B9D210>, <__main__.Card object at 0x03B9DF50>, <__main__.Card object at 0x03B9D610>, <__main__.Card object at 0x03B9D7B0>, <__main__.Card object at 0x03B9DB10>, <__main__.Card object at 0x03B9DB50>, <__main__.Card object at 0x03B9D190>, <__main__.Card object at 0x03B9DDF0>, <__main__.Card object at 0x03B9DBD0>, <__main__.Card object at 0x03B9D330>, <__main__.Card object at 0x03B9DF30>, <__main__.Card object at 0x03B9D1D0>, <__main__.Card object at 0x03B9D1F0>, <__main__.Card object at 0x03A673B0>, <__main__.Card object at 0x03A672B0>, <__main__.Card object at 0x03A67AF0>, <__main__.Card object at 0x03A67B90>, <__main__.Card object at 0x03A67630>, <__main__.Card object at 0x03A672D0>, <__main__.Card object at 0x03A679D0>, <__main__.Card object at 0x03A67430>, <__main__.Card object at 0x03A673F0>, <__main__.Card object at 0x03A67570>]\n",
        "None\n"
       ]
      }
     ],
     "prompt_number": 534
    },
    {
     "cell_type": "code",
     "collapsed": false,
     "input": [
      "t.display()"
     ],
     "language": "python",
     "metadata": {},
     "outputs": [
      {
       "output_type": "stream",
       "stream": "stdout",
       "text": [
        "Table Status: new\n",
        "---------------------------------------------------------------\n",
        "Round: 1 \t Pot: 0 \t\n",
        "===============================================================\n",
        "Common: \t \n",
        "Seat:0\tSeat:1\tSeat:2\tSeat:3\tSeat:4\tSeat:5\tSeat:6\tSeat:7\n",
        "BB\tD\t\t\t\t\t\tLB\t\n",
        "Joe\tNPC1\t------\t------\t------\t------\t------\t------\n",
        "100\t100\t0\t0\t0\t0\t0\t0\n",
        "--\t--\t--\t--\t--\t--\n"
       ]
      }
     ],
     "prompt_number": 531
    },
    {
     "cell_type": "code",
     "collapsed": false,
     "input": [
      "t.deal_players(2, 'deal hole cards')"
     ],
     "language": "python",
     "metadata": {},
     "outputs": [
      {
       "ename": "AttributeError",
       "evalue": "'NoneType' object has no attribute 'pop'",
       "output_type": "pyerr",
       "traceback": [
        "\u001b[1;31m---------------------------------------------------------------------------\u001b[0m\n\u001b[1;31mAttributeError\u001b[0m                            Traceback (most recent call last)",
        "\u001b[1;32m<ipython-input-532-364d5e2bfb07>\u001b[0m in \u001b[0;36m<module>\u001b[1;34m()\u001b[0m\n\u001b[1;32m----> 1\u001b[1;33m \u001b[0mt\u001b[0m\u001b[1;33m.\u001b[0m\u001b[0mdeal_players\u001b[0m\u001b[1;33m(\u001b[0m\u001b[1;36m2\u001b[0m\u001b[1;33m,\u001b[0m \u001b[1;34m'deal hole cards'\u001b[0m\u001b[1;33m)\u001b[0m\u001b[1;33m\u001b[0m\u001b[0m\n\u001b[0m",
        "\u001b[1;32mC:\\Users\\clukowsk\\Documents\\GitHub\\Udacity\\cs212\\oop_poker1.py\u001b[0m in \u001b[0;36mdeal_players\u001b[1;34m(self, n, state)\u001b[0m\n\u001b[0;32m     32\u001b[0m                         \u001b[1;32melse\u001b[0m\u001b[1;33m:\u001b[0m\u001b[1;33m\u001b[0m\u001b[0m\n\u001b[0;32m     33\u001b[0m                                 \u001b[1;32mfor\u001b[0m \u001b[0mi\u001b[0m \u001b[1;32min\u001b[0m \u001b[0mrange\u001b[0m\u001b[1;33m(\u001b[0m\u001b[0mn\u001b[0m\u001b[1;33m)\u001b[0m\u001b[1;33m:\u001b[0m\u001b[1;33m\u001b[0m\u001b[0m\n\u001b[1;32m---> 34\u001b[1;33m                                         \u001b[0mself\u001b[0m\u001b[1;33m.\u001b[0m\u001b[0mseats\u001b[0m\u001b[1;33m[\u001b[0m\u001b[0mseat\u001b[0m\u001b[1;33m]\u001b[0m\u001b[1;33m.\u001b[0m\u001b[0mcards\u001b[0m\u001b[1;33m.\u001b[0m\u001b[0mappend\u001b[0m\u001b[1;33m(\u001b[0m\u001b[0mself\u001b[0m\u001b[1;33m.\u001b[0m\u001b[0mcards\u001b[0m\u001b[1;33m.\u001b[0m\u001b[0mpop\u001b[0m\u001b[1;33m(\u001b[0m\u001b[1;33m)\u001b[0m\u001b[1;33m)\u001b[0m\u001b[1;33m\u001b[0m\u001b[0m\n\u001b[0m\u001b[0;32m     35\u001b[0m \u001b[1;33m\u001b[0m\u001b[0m\n\u001b[0;32m     36\u001b[0m         \u001b[1;32mdef\u001b[0m \u001b[0mdeal_common\u001b[0m\u001b[1;33m(\u001b[0m\u001b[0mself\u001b[0m\u001b[1;33m,\u001b[0m \u001b[0mn\u001b[0m\u001b[1;33m,\u001b[0m \u001b[0mstate\u001b[0m\u001b[1;33m)\u001b[0m\u001b[1;33m:\u001b[0m\u001b[1;33m\u001b[0m\u001b[0m\n",
        "\u001b[1;31mAttributeError\u001b[0m: 'NoneType' object has no attribute 'pop'"
       ]
      }
     ],
     "prompt_number": 532
    },
    {
     "cell_type": "code",
     "collapsed": false,
     "input": [
      "t.display()"
     ],
     "language": "python",
     "metadata": {},
     "outputs": []
    },
    {
     "cell_type": "code",
     "collapsed": false,
     "input": [
      "t.deal_common(3, 'flop')"
     ],
     "language": "python",
     "metadata": {},
     "outputs": []
    },
    {
     "cell_type": "code",
     "collapsed": false,
     "input": [
      "t.display()"
     ],
     "language": "python",
     "metadata": {},
     "outputs": []
    },
    {
     "cell_type": "code",
     "collapsed": false,
     "input": [],
     "language": "python",
     "metadata": {},
     "outputs": []
    }
   ],
   "metadata": {}
  }
 ]
}