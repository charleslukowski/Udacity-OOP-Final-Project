{
 "metadata": {
  "name": "",
  "signature": "sha256:7f28739621a10a458a01f22330a99abfdb9050e81a8bbb9df36906597942eb68"
 },
 "nbformat": 3,
 "nbformat_minor": 0,
 "worksheets": [
  {
   "cells": [
    {
     "cell_type": "code",
     "collapsed": false,
     "input": [
      "%run oop_poker1.py"
     ],
     "language": "python",
     "metadata": {},
     "outputs": [],
     "prompt_number": 471
    },
    {
     "cell_type": "code",
     "collapsed": false,
     "input": [
      "d = Deck()\n",
      "t = Table(d.card_list, 1, 2)\n",
      "p1 = PC('Joe')\n",
      "p1.sit_in(t, 0)\n",
      "npc1 = NPC('NPC1')\n",
      "npc1.sit_in(t,1)"
     ],
     "language": "python",
     "metadata": {},
     "outputs": [],
     "prompt_number": 472
    },
    {
     "cell_type": "code",
     "collapsed": false,
     "input": [
      "t.deal()"
     ],
     "language": "python",
     "metadata": {},
     "outputs": [],
     "prompt_number": 473
    },
    {
     "cell_type": "code",
     "collapsed": false,
     "input": [
      "t.display()"
     ],
     "language": "python",
     "metadata": {},
     "outputs": [
      {
       "output_type": "stream",
       "stream": "stdout",
       "text": [
        "Table Status\n",
        "---------------------------------------------------------------\n",
        "Round: 1 \t Pot: 0 \t\n",
        "===============================================================\n",
        "Seat:0\tSeat:1\tSeat:2\tSeat:3\tSeat:4\tSeat:5\tSeat:6\tSeat:7\n",
        "BB\tD\t\t\t\t\t\tLB\t\n",
        "Joe\tNPC1\t------\t------\t------\t------\t------\t------\n",
        "100\t100\t0\t0\t0\t0\t0\t0\n",
        "KS-QS\tJS-TS\t--\t--\t--\t--\t--\t--\n"
       ]
      }
     ],
     "prompt_number": 474
    },
    {
     "cell_type": "code",
     "collapsed": false,
     "input": [],
     "language": "python",
     "metadata": {},
     "outputs": [],
     "prompt_number": 474
    }
   ],
   "metadata": {}
  }
 ]
}