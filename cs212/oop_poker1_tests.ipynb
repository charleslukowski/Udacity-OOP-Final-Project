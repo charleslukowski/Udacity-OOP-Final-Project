{
 "metadata": {
  "name": "",
  "signature": "sha256:78e5659e32901586503ebed09be06d0bc43dcbd3274392c11c99f6064b28046d"
 },
 "nbformat": 3,
 "nbformat_minor": 0,
 "worksheets": [
  {
   "cells": [
    {
     "cell_type": "code",
     "collapsed": false,
     "input": [
      "%run oop_poker1.py"
     ],
     "language": "python",
     "metadata": {},
     "outputs": [],
     "prompt_number": 85
    },
    {
     "cell_type": "code",
     "collapsed": false,
     "input": [
      "d = Deck()\n",
      "#d.display()"
     ],
     "language": "python",
     "metadata": {},
     "outputs": [],
     "prompt_number": 86
    },
    {
     "cell_type": "code",
     "collapsed": false,
     "input": [
      "d.shuffle()\n",
      "#d.display()\n",
      "t = Table(d.card_list, 1, 2)\n",
      "p1 = PC('Joe')\n",
      "p1.sit_in(t, 0)\n",
      "npc1 = NPC('NPC1')\n",
      "npc1.sit_in(t,1)"
     ],
     "language": "python",
     "metadata": {},
     "outputs": [],
     "prompt_number": 87
    },
    {
     "cell_type": "code",
     "collapsed": false,
     "input": [
      "t.display()"
     ],
     "language": "python",
     "metadata": {},
     "outputs": [
      {
       "output_type": "stream",
       "stream": "stdout",
       "text": [
        "Table Status: new\n",
        "---------------------------------------------------------------\n",
        "Round: 1 \t Pot: 0 \t\n",
        "===============================================================\n",
        "Common: \t \n",
        "Seat:0\tSeat:1\tSeat:2\tSeat:3\tSeat:4\tSeat:5\tSeat:6\tSeat:7\n",
        "BB\tD\t\t\t\t\t\tLB\t\n",
        "Joe\tNPC1\t------\t------\t------\t------\t------\t------\n",
        "100\t100\t0\t0\t0\t0\t0\t0\n",
        "--\t--\t--\t--\t--\t--\n"
       ]
      }
     ],
     "prompt_number": 88
    },
    {
     "cell_type": "code",
     "collapsed": false,
     "input": [
      "t.deal_players(2, 'deal hole cards')"
     ],
     "language": "python",
     "metadata": {},
     "outputs": [],
     "prompt_number": 89
    },
    {
     "cell_type": "code",
     "collapsed": false,
     "input": [
      "t.display()"
     ],
     "language": "python",
     "metadata": {},
     "outputs": [
      {
       "output_type": "stream",
       "stream": "stdout",
       "text": [
        "Table Status: deal hole cards\n",
        "---------------------------------------------------------------\n",
        "Round: 1 \t Pot: 0 \t\n",
        "===============================================================\n",
        "Common: \t \n",
        "Seat:0\tSeat:1\tSeat:2\tSeat:3\tSeat:4\tSeat:5\tSeat:6\tSeat:7\n",
        "BB\tD\t\t\t\t\t\tLB\t\n",
        "Joe\tNPC1\t------\t------\t------\t------\t------\t------\n",
        "100\t100\t0\t0\t0\t0\t0\t0\n",
        "7C-AS\t9C-4H\t--\t--\t--\t--\t--\t--\n"
       ]
      }
     ],
     "prompt_number": 90
    },
    {
     "cell_type": "code",
     "collapsed": false,
     "input": [
      "t.deal_common(3, 'flop')"
     ],
     "language": "python",
     "metadata": {},
     "outputs": [],
     "prompt_number": 91
    },
    {
     "cell_type": "code",
     "collapsed": false,
     "input": [
      "t.display()"
     ],
     "language": "python",
     "metadata": {},
     "outputs": [
      {
       "output_type": "stream",
       "stream": "stdout",
       "text": [
        "Table Status: flop\n",
        "---------------------------------------------------------------\n",
        "Round: 1 \t Pot: 0 \t\n",
        "===============================================================\n",
        "Common: \t 9D - JC - 7H\n",
        "Seat:0\tSeat:1\tSeat:2\tSeat:3\tSeat:4\tSeat:5\tSeat:6\tSeat:7\n",
        "BB\tD\t\t\t\t\t\tLB\t\n",
        "Joe\tNPC1\t------\t------\t------\t------\t------\t------\n",
        "100\t100\t0\t0\t0\t0\t0\t0\n",
        "7C-AS\t9C-4H\t--\t--\t--\t--\t--\t--\n"
       ]
      }
     ],
     "prompt_number": 92
    },
    {
     "cell_type": "code",
     "collapsed": false,
     "input": [
      "t.betting_round()"
     ],
     "language": "python",
     "metadata": {},
     "outputs": [
      {
       "output_type": "stream",
       "stream": "stdout",
       "text": [
        "Betting Over\n",
        "['Check', 'Bet', 'Fold']\n"
       ]
      },
      {
       "name": "stdout",
       "output_type": "stream",
       "stream": "stdout",
       "text": [
        "Enter your actionBet\n"
       ]
      },
      {
       "output_type": "stream",
       "stream": "stdout",
       "text": [
        "Action taken Bet\n",
        "['Check', 'Bet', 'Fold']\n"
       ]
      },
      {
       "name": "stdout",
       "output_type": "stream",
       "stream": "stdout",
       "text": [
        "Enter your actionCheck\n"
       ]
      },
      {
       "output_type": "stream",
       "stream": "stdout",
       "text": [
        "Action taken Check\n",
        "['Check', 'Bet', 'Fold']\n"
       ]
      },
      {
       "name": "stdout",
       "output_type": "stream",
       "stream": "stdout",
       "text": [
        "Enter your actionBet\n"
       ]
      },
      {
       "output_type": "stream",
       "stream": "stdout",
       "text": [
        "Action taken Bet\n",
        "['Check', 'Bet', 'Fold']\n"
       ]
      },
      {
       "name": "stdout",
       "output_type": "stream",
       "stream": "stdout",
       "text": [
        "Enter your actionFold\n"
       ]
      },
      {
       "output_type": "stream",
       "stream": "stdout",
       "text": [
        "Action taken Fold\n",
        "Over\n"
       ]
      }
     ],
     "prompt_number": 93
    },
    {
     "cell_type": "code",
     "collapsed": false,
     "input": [
      "t.deal_common(1, 'turn')"
     ],
     "language": "python",
     "metadata": {},
     "outputs": [],
     "prompt_number": 94
    },
    {
     "cell_type": "code",
     "collapsed": false,
     "input": [
      "t.current_bet"
     ],
     "language": "python",
     "metadata": {},
     "outputs": [
      {
       "metadata": {},
       "output_type": "pyout",
       "prompt_number": 95,
       "text": [
        "1"
       ]
      }
     ],
     "prompt_number": 95
    },
    {
     "cell_type": "code",
     "collapsed": false,
     "input": [
      "t.get_bet_amt()"
     ],
     "language": "python",
     "metadata": {},
     "outputs": [
      {
       "metadata": {},
       "output_type": "pyout",
       "prompt_number": 96,
       "text": [
        "1"
       ]
      }
     ],
     "prompt_number": 96
    },
    {
     "cell_type": "code",
     "collapsed": false,
     "input": [
      "t.display()"
     ],
     "language": "python",
     "metadata": {},
     "outputs": [
      {
       "output_type": "stream",
       "stream": "stdout",
       "text": [
        "Table Status: turn\n",
        "---------------------------------------------------------------\n",
        "Round: 1 \t Pot: 2 \t\n",
        "===============================================================\n",
        "Common: \t 9D - JC - 7H - TD\n",
        "Seat:0\tSeat:1\tSeat:2\tSeat:3\tSeat:4\tSeat:5\tSeat:6\tSeat:7\n",
        "BB\tD\t\t\t\t\t\tLB\t\n",
        "Joe\tNPC1\t------\t------\t------\t------\t------\t------\n",
        "98\t100\t0\t0\t0\t0\t0\t0\n",
        "7C-AS\t9C-4H\t--\t--\t--\t--\t--\t--\n"
       ]
      }
     ],
     "prompt_number": 97
    },
    {
     "cell_type": "code",
     "collapsed": false,
     "input": [
      "t.betting_round()"
     ],
     "language": "python",
     "metadata": {},
     "outputs": [
      {
       "output_type": "stream",
       "stream": "stdout",
       "text": [
        "Betting Over\n",
        "['Check', 'Bet', 'Fold']\n"
       ]
      },
      {
       "name": "stdout",
       "output_type": "stream",
       "stream": "stdout",
       "text": [
        "Enter your actionFold\n"
       ]
      },
      {
       "output_type": "stream",
       "stream": "stdout",
       "text": [
        "Action taken Fold\n",
        "Over\n"
       ]
      }
     ],
     "prompt_number": 98
    },
    {
     "cell_type": "code",
     "collapsed": false,
     "input": [
      "t.display()"
     ],
     "language": "python",
     "metadata": {},
     "outputs": [
      {
       "output_type": "stream",
       "stream": "stdout",
       "text": [
        "Table Status: turn\n",
        "---------------------------------------------------------------\n",
        "Round: 1 \t Pot: 2 \t\n",
        "===============================================================\n",
        "Common: \t 9D - JC - 7H - TD\n",
        "Seat:0\tSeat:1\tSeat:2\tSeat:3\tSeat:4\tSeat:5\tSeat:6\tSeat:7\n",
        "BB\tD\t\t\t\t\t\tLB\t\n",
        "Joe\tNPC1\t------\t------\t------\t------\t------\t------\n",
        "98\t100\t0\t0\t0\t0\t0\t0\n",
        "7C-AS\t9C-4H\t--\t--\t--\t--\t--\t--\n"
       ]
      }
     ],
     "prompt_number": 99
    },
    {
     "cell_type": "code",
     "collapsed": false,
     "input": [
      "t.seats[0].type"
     ],
     "language": "python",
     "metadata": {},
     "outputs": [
      {
       "metadata": {},
       "output_type": "pyout",
       "prompt_number": 100,
       "text": [
        "'PC'"
       ]
      }
     ],
     "prompt_number": 100
    },
    {
     "cell_type": "code",
     "collapsed": false,
     "input": [
      "t.betting_over()"
     ],
     "language": "python",
     "metadata": {},
     "outputs": [
      {
       "output_type": "stream",
       "stream": "stdout",
       "text": [
        "Over\n"
       ]
      },
      {
       "metadata": {},
       "output_type": "pyout",
       "prompt_number": 101,
       "text": [
        "True"
       ]
      }
     ],
     "prompt_number": 101
    },
    {
     "cell_type": "code",
     "collapsed": false,
     "input": [],
     "language": "python",
     "metadata": {},
     "outputs": [],
     "prompt_number": 101
    }
   ],
   "metadata": {}
  }
 ]
}