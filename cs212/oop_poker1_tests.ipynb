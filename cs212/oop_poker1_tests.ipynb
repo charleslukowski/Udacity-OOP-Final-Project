{
 "metadata": {
  "name": "",
  "signature": "sha256:612a632b79c3070567877b7c0958f0f4efe43cc68a79ca4300c7d4f87a2f64a3"
 },
 "nbformat": 3,
 "nbformat_minor": 0,
 "worksheets": [
  {
   "cells": [
    {
     "cell_type": "code",
     "collapsed": false,
     "input": [
      "%run oop_poker1.py"
     ],
     "language": "python",
     "metadata": {},
     "outputs": [],
     "prompt_number": 262
    },
    {
     "cell_type": "code",
     "collapsed": false,
     "input": [
      "d = Deck()\n",
      "t = Table(d.card_list, 1, 2)\n",
      "p1 = PC('Joe')\n",
      "p1.sit_in(t, 0)\n",
      "npc1 = NPC('NPC1')\n",
      "npc1.sit_in(t,1)"
     ],
     "language": "python",
     "metadata": {},
     "outputs": [],
     "prompt_number": 263
    },
    {
     "cell_type": "code",
     "collapsed": false,
     "input": [
      "# for card in d.card_list:\n",
      "#     print card.name_card(card.suit, card.rank)"
     ],
     "language": "python",
     "metadata": {},
     "outputs": [],
     "prompt_number": 264
    },
    {
     "cell_type": "code",
     "collapsed": false,
     "input": [
      "t.pot"
     ],
     "language": "python",
     "metadata": {},
     "outputs": [
      {
       "metadata": {},
       "output_type": "pyout",
       "prompt_number": 265,
       "text": [
        "0"
       ]
      }
     ],
     "prompt_number": 265
    },
    {
     "cell_type": "code",
     "collapsed": false,
     "input": [
      "print t.display_open_seats()"
     ],
     "language": "python",
     "metadata": {},
     "outputs": [
      {
       "output_type": "stream",
       "stream": "stdout",
       "text": [
        "Open seats at the following positions:\n",
        "[2, 3, 4, 5, 6, 7]\n"
       ]
      }
     ],
     "prompt_number": 266
    },
    {
     "cell_type": "code",
     "collapsed": false,
     "input": [
      "print p1.balance"
     ],
     "language": "python",
     "metadata": {},
     "outputs": [
      {
       "output_type": "stream",
       "stream": "stdout",
       "text": [
        "100\n"
       ]
      }
     ],
     "prompt_number": 267
    },
    {
     "cell_type": "code",
     "collapsed": false,
     "input": [
      "print npc1.balance"
     ],
     "language": "python",
     "metadata": {},
     "outputs": [
      {
       "output_type": "stream",
       "stream": "stdout",
       "text": [
        "100\n"
       ]
      }
     ],
     "prompt_number": 268
    },
    {
     "cell_type": "code",
     "collapsed": false,
     "input": [
      "t.display()"
     ],
     "language": "python",
     "metadata": {},
     "outputs": [
      {
       "output_type": "stream",
       "stream": "stdout",
       "text": [
        "Table Status\n",
        "---------------------------------------------------------------\n",
        "Round: 1 \t Pot: 0 \t\n",
        "===============================================================\n",
        "Seat:0\tSeat:1\tSeat:2\tSeat:3\tSeat:4\tSeat:5\tSeat:6\tSeat:7\n",
        "BB\tD\t\t\t\t\t\t\t\n",
        "Joe\tNPC1\t------\t------\t------\t------\t------\t------\n",
        "100\t100\t0\t0\t0\t0\t0\t0\n"
       ]
      }
     ],
     "prompt_number": 269
    },
    {
     "cell_type": "code",
     "collapsed": false,
     "input": [
      "output = ''\n",
      "for key in t.seats.keys(): \n",
      "    output += '\\tSeat:' + str(key)\n",
      "print output"
     ],
     "language": "python",
     "metadata": {},
     "outputs": [
      {
       "output_type": "stream",
       "stream": "stdout",
       "text": [
        "\tSeat:0\tSeat:1\tSeat:2\tSeat:3\tSeat:4\tSeat:5\tSeat:6\tSeat:7\n"
       ]
      }
     ],
     "prompt_number": 270
    },
    {
     "cell_type": "code",
     "collapsed": false,
     "input": [],
     "language": "python",
     "metadata": {},
     "outputs": [],
     "prompt_number": 270
    }
   ],
   "metadata": {}
  }
 ]
}