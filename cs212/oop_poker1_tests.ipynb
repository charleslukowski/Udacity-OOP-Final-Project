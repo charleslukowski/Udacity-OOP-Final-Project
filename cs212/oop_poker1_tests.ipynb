{
 "metadata": {
  "name": "",
  "signature": "sha256:df74207f4a0f27867434dbc44cbfee52a521528155245dead66c8d21422daa94"
 },
 "nbformat": 3,
 "nbformat_minor": 0,
 "worksheets": [
  {
   "cells": [
    {
     "cell_type": "code",
     "collapsed": false,
     "input": [
      "%run oop_poker1.py"
     ],
     "language": "python",
     "metadata": {},
     "outputs": [],
     "prompt_number": 459
    },
    {
     "cell_type": "code",
     "collapsed": false,
     "input": [
      "d = Deck()\n",
      "t = Table(d.card_list, 1, 2)\n",
      "p1 = PC('Joe')\n",
      "p1.sit_in(t, 0)\n",
      "npc1 = NPC('NPC1')\n",
      "npc1.sit_in(t,1)"
     ],
     "language": "python",
     "metadata": {},
     "outputs": [],
     "prompt_number": 460
    },
    {
     "cell_type": "code",
     "collapsed": false,
     "input": [
      "# for card in d.card_list:\n",
      "#     print card.name_card(card.suit, card.rank)"
     ],
     "language": "python",
     "metadata": {},
     "outputs": [],
     "prompt_number": 461
    },
    {
     "cell_type": "code",
     "collapsed": false,
     "input": [
      "t.pot"
     ],
     "language": "python",
     "metadata": {},
     "outputs": [
      {
       "metadata": {},
       "output_type": "pyout",
       "prompt_number": 462,
       "text": [
        "0"
       ]
      }
     ],
     "prompt_number": 462
    },
    {
     "cell_type": "code",
     "collapsed": false,
     "input": [
      "print t.display_open_seats()"
     ],
     "language": "python",
     "metadata": {},
     "outputs": [
      {
       "output_type": "stream",
       "stream": "stdout",
       "text": [
        "Open seats at the following positions:\n",
        "[2, 3, 4, 5, 6, 7]\n"
       ]
      }
     ],
     "prompt_number": 463
    },
    {
     "cell_type": "code",
     "collapsed": false,
     "input": [
      "print p1.balance"
     ],
     "language": "python",
     "metadata": {},
     "outputs": [
      {
       "output_type": "stream",
       "stream": "stdout",
       "text": [
        "100\n"
       ]
      }
     ],
     "prompt_number": 464
    },
    {
     "cell_type": "code",
     "collapsed": false,
     "input": [
      "print npc1.balance"
     ],
     "language": "python",
     "metadata": {},
     "outputs": [
      {
       "output_type": "stream",
       "stream": "stdout",
       "text": [
        "100\n"
       ]
      }
     ],
     "prompt_number": 465
    },
    {
     "cell_type": "code",
     "collapsed": false,
     "input": [
      "t.deal()"
     ],
     "language": "python",
     "metadata": {},
     "outputs": [
      {
       "output_type": "stream",
       "stream": "stdout",
       "text": [
        "Skipping seat: 2\n",
        "Skipping seat: 3\n",
        "Skipping seat: 4\n",
        "Skipping seat: 5\n",
        "Skipping seat: 6\n",
        "Skipping seat: 7\n"
       ]
      }
     ],
     "prompt_number": 466
    },
    {
     "cell_type": "code",
     "collapsed": false,
     "input": [
      "t.display()"
     ],
     "language": "python",
     "metadata": {},
     "outputs": [
      {
       "output_type": "stream",
       "stream": "stdout",
       "text": [
        "Table Status\n",
        "---------------------------------------------------------------\n",
        "Round: 1 \t Pot: 0 \t\n",
        "===============================================================\n",
        "Seat:0\tSeat:1\tSeat:2\tSeat:3\tSeat:4\tSeat:5\tSeat:6\tSeat:7\n",
        "BB\tD\t\t\t\t\t\tLB\t\n",
        "Joe\tNPC1\t------\t------\t------\t------\t------\t------\n",
        "100\t100\t0\t0\t0\t0\t0\t0\n",
        "KS-QS\tJS-TS\t--\t--\t--\t--\t--\t--\n"
       ]
      }
     ],
     "prompt_number": 467
    },
    {
     "cell_type": "code",
     "collapsed": false,
     "input": [
      "for card in p1.cards:\n",
      "    print card.simple_name_card(card.suit, card.rank)"
     ],
     "language": "python",
     "metadata": {},
     "outputs": [
      {
       "output_type": "stream",
       "stream": "stdout",
       "text": [
        "KS\n",
        "QS\n"
       ]
      }
     ],
     "prompt_number": 468
    },
    {
     "cell_type": "code",
     "collapsed": false,
     "input": [],
     "language": "python",
     "metadata": {},
     "outputs": [],
     "prompt_number": 468
    }
   ],
   "metadata": {}
  }
 ]
}